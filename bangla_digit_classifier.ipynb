{
  "nbformat": 4,
  "nbformat_minor": 0,
  "metadata": {
    "colab": {
      "name": "bangla_digit_classifier.ipynb",
      "provenance": [],
      "mount_file_id": "1FovptFa6AgXUU7OmZok4Ruc6MC-jpxNn",
      "authorship_tag": "ABX9TyOLGrbn6eRavtOOfO+iT/mU"
    },
    "kernelspec": {
      "name": "python3",
      "display_name": "Python 3"
    },
    "accelerator": "GPU"
  },
  "cells": [
    {
      "cell_type": "markdown",
      "metadata": {
        "id": "M8TWM0cX5WjM",
        "colab_type": "text"
      },
      "source": [
        "This is a bangla digit classifier model. It is trained on a hude dataset of bangla numbers. If a bangla digit is given as input, it outputs the corresponding english number. "
      ]
    },
    {
      "cell_type": "markdown",
      "metadata": {
        "id": "nmlXzBxAyia-",
        "colab_type": "text"
      },
      "source": [
        "# **Impoting** **Libraries**"
      ]
    },
    {
      "cell_type": "code",
      "metadata": {
        "id": "5vvS-MvHE2iV",
        "colab_type": "code",
        "colab": {
          "base_uri": "https://localhost:8080/",
          "height": 35
        },
        "outputId": "9b84961f-a215-45e4-fcc2-3623775c3a20"
      },
      "source": [
        "import numpy as np\n",
        "import matplotlib.pyplot as plt\n",
        "from sklearn.model_selection import train_test_split\n",
        "from keras.models import Sequential\n",
        "from keras.layers import Dense, Conv2D, MaxPooling2D, BatchNormalization, Flatten, Dropout\n",
        "from keras.utils import to_categorical\n",
        "import cv2\n",
        "from keras.optimizers import Adam"
      ],
      "execution_count": 1,
      "outputs": [
        {
          "output_type": "stream",
          "text": [
            "Using TensorFlow backend.\n"
          ],
          "name": "stderr"
        }
      ]
    },
    {
      "cell_type": "markdown",
      "metadata": {
        "id": "1p5CTprmysCb",
        "colab_type": "text"
      },
      "source": [
        "# **Loading the train dataset** "
      ]
    },
    {
      "cell_type": "code",
      "metadata": {
        "id": "9rnByBlZGS8P",
        "colab_type": "code",
        "colab": {}
      },
      "source": [
        "x = np.load('./drive/My Drive/Beginner to Machine Learning/Digit/numta_x.npy')\n",
        "y = np.load('drive/My Drive/Beginner to Machine Learning/Digit/numta_y.npy')"
      ],
      "execution_count": 2,
      "outputs": []
    },
    {
      "cell_type": "markdown",
      "metadata": {
        "id": "YGGMnAXSyuoP",
        "colab_type": "text"
      },
      "source": [
        "# **Plotting some arbitrary images from the training dataset to visualize**"
      ]
    },
    {
      "cell_type": "code",
      "metadata": {
        "id": "-m3SbrpxKhNp",
        "colab_type": "code",
        "colab": {
          "base_uri": "https://localhost:8080/",
          "height": 122
        },
        "outputId": "48f1332e-feaf-4e8d-c788-404eff554b89"
      },
      "source": [
        "l = [34, 57, 19230, 6790, 456]\n",
        "\n",
        "for i in range(1, len(l)):\n",
        "  plt.subplot(1,5,i)\n",
        "  plt.imshow(x[i-1], cmap = 'gray')\n",
        "  plt.title(y[i-1])"
      ],
      "execution_count": 3,
      "outputs": [
        {
          "output_type": "display_data",
          "data": {
            "image/png": "[encoded data removed]",
            "text/plain": [
              "<Figure size 432x288 with 4 Axes>"
            ]
          },
          "metadata": {
            "tags": [],
            "needs_background": "light"
          }
        }
      ]
    },
    {
      "cell_type": "markdown",
      "metadata": {
        "id": "PtML0j4ey07t",
        "colab_type": "text"
      },
      "source": [
        "# **Inverting images to black and white**"
      ]
    },
    {
      "cell_type": "code",
      "metadata": {
        "id": "ZRsmOObaHawZ",
        "colab_type": "code",
        "colab": {}
      },
      "source": [
        "temp=[]\n",
        "for i in x:\n",
        "  (t, im) = cv2.threshold(i, 128, 255, cv2.THRESH_BINARY_INV | cv2.THRESH_OTSU)\n",
        "  temp.append(im)\n",
        "x= np.array(temp)"
      ],
      "execution_count": 4,
      "outputs": []
    },
    {
      "cell_type": "code",
      "metadata": {
        "id": "R7LXN4kVH2VB",
        "colab_type": "code",
        "colab": {
          "base_uri": "https://localhost:8080/",
          "height": 122
        },
        "outputId": "f9d84274-e4a0-4bff-a490-a4146da0dacd"
      },
      "source": [
        "# Checking the inverted images\n",
        "\n",
        "l = [34, 57, 19230, 6790, 456]\n",
        "\n",
        "for i in range(1, len(l)):\n",
        "  plt.subplot(1,5,i)\n",
        "  plt.imshow(x[i-1], cmap = 'gray')\n",
        "  plt.title(y[i-1])"
      ],
      "execution_count": 5,
      "outputs": [
        {
          "output_type": "display_data",
          "data": {
            "image/png": "[encoded data removed]",
            "text/plain": [
              "<Figure size 432x288 with 4 Axes>"
            ]
          },
          "metadata": {
            "tags": [],
            "needs_background": "light"
          }
        }
      ]
    },
    {
      "cell_type": "code",
      "metadata": {
        "id": "zJPUEIkrH4v5",
        "colab_type": "code",
        "colab": {}
      },
      "source": [
        "#reshaping x and y is set to categorical as it is a classifier problem\n",
        "\n",
        "x = x.reshape(-1, 64, 64, 1)\n",
        "y = to_categorical(y)"
      ],
      "execution_count": 6,
      "outputs": []
    },
    {
      "cell_type": "markdown",
      "metadata": {
        "id": "3nyjSh7lzipE",
        "colab_type": "text"
      },
      "source": [
        "# **The Training model**"
      ]
    },
    {
      "cell_type": "code",
      "metadata": {
        "id": "2f_Qi6BxLWkG",
        "colab_type": "code",
        "colab": {
          "base_uri": "https://localhost:8080/",
          "height": 862
        },
        "outputId": "bb2c800e-e0a7-471d-dfbc-debc2cf46b52"
      },
      "source": [
        "model = Sequential()\n",
        "model.add(Conv2D(64, (5, 5), input_shape=(64, 64, 1), activation='relu', padding='same'))\n",
        "model.add(Conv2D(64, (5, 5), activation='relu'))\n",
        "model.add(MaxPooling2D((2, 2), strides=(2, 2)))\n",
        "model.add(Conv2D(128, (3, 3), activation='relu'))\n",
        "model.add(BatchNormalization())\n",
        "\n",
        "model.add(Conv2D(128, (3, 3), activation='relu'))\n",
        "model.add(MaxPooling2D((2, 2), strides=(2, 2)))\n",
        "model.add(Conv2D(512, (3, 3), activation='relu'))\n",
        "model.add(BatchNormalization())\n",
        "\n",
        "model.add(Conv2D(512, (3, 3), activation='relu'))\n",
        "model.add(BatchNormalization())\n",
        "model.add(Conv2D(512, (3, 3), activation='relu'))\n",
        "model.add(MaxPooling2D((2, 2), strides=(2, 2)))\n",
        "model.add(Flatten())\n",
        "\n",
        "model.add(Dense(256, activation='relu'))\n",
        "model.add(Dropout(0.4))\n",
        "model.add(Dense(256, activation='relu'))\n",
        "model.add(Dropout(0.25))\n",
        "model.add(Dense(10, activation='softmax'))\n",
        " \n",
        "adam = Adam(lr=.0001)\n",
        "model.compile(loss='categorical_crossentropy', metrics=['accuracy'], optimizer=adam)\n",
        "model.summary()"
      ],
      "execution_count": 7,
      "outputs": [
        {
          "output_type": "stream",
          "text": [
            "Model: \"sequential_1\"\n",
            "_________________________________________________________________\n",
            "Layer (type)                 Output Shape              Param #   \n",
            "=================================================================\n",
            "conv2d_1 (Conv2D)            (None, 64, 64, 64)        1664      \n",
            "_________________________________________________________________\n",
            "conv2d_2 (Conv2D)            (None, 60, 60, 64)        102464    \n",
            "_________________________________________________________________\n",
            "max_pooling2d_1 (MaxPooling2 (None, 30, 30, 64)        0         \n",
            "_________________________________________________________________\n",
            "conv2d_3 (Conv2D)            (None, 28, 28, 128)       73856     \n",
            "_________________________________________________________________\n",
            "batch_normalization_1 (Batch (None, 28, 28, 128)       512       \n",
            "_________________________________________________________________\n",
            "conv2d_4 (Conv2D)            (None, 26, 26, 128)       147584    \n",
            "_________________________________________________________________\n",
            "max_pooling2d_2 (MaxPooling2 (None, 13, 13, 128)       0         \n",
            "_________________________________________________________________\n",
            "conv2d_5 (Conv2D)            (None, 11, 11, 512)       590336    \n",
            "_________________________________________________________________\n",
            "batch_normalization_2 (Batch (None, 11, 11, 512)       2048      \n",
            "_________________________________________________________________\n",
            "conv2d_6 (Conv2D)            (None, 9, 9, 512)         2359808   \n",
            "_________________________________________________________________\n",
            "batch_normalization_3 (Batch (None, 9, 9, 512)         2048      \n",
            "_________________________________________________________________\n",
            "conv2d_7 (Conv2D)            (None, 7, 7, 512)         2359808   \n",
            "_________________________________________________________________\n",
            "max_pooling2d_3 (MaxPooling2 (None, 3, 3, 512)         0         \n",
            "_________________________________________________________________\n",
            "flatten_1 (Flatten)          (None, 4608)              0         \n",
            "_________________________________________________________________\n",
            "dense_1 (Dense)              (None, 256)               1179904   \n",
            "_________________________________________________________________\n",
            "dropout_1 (Dropout)          (None, 256)               0         \n",
            "_________________________________________________________________\n",
            "dense_2 (Dense)              (None, 256)               65792     \n",
            "_________________________________________________________________\n",
            "dropout_2 (Dropout)          (None, 256)               0         \n",
            "_________________________________________________________________\n",
            "dense_3 (Dense)              (None, 10)                2570      \n",
            "=================================================================\n",
            "Total params: 6,888,394\n",
            "Trainable params: 6,886,090\n",
            "Non-trainable params: 2,304\n",
            "_________________________________________________________________\n"
          ],
          "name": "stdout"
        }
      ]
    },
    {
      "cell_type": "markdown",
      "metadata": {
        "id": "bdRgMlDczvGS",
        "colab_type": "text"
      },
      "source": [
        "# **Training the dataset with the model**"
      ]
    },
    {
      "cell_type": "code",
      "metadata": {
        "id": "PViTaLKON1-O",
        "colab_type": "code",
        "colab": {
          "base_uri": "https://localhost:8080/",
          "height": 237
        },
        "outputId": "6d7433c3-8d9d-4a29-a83d-c24c098a7467"
      },
      "source": [
        "model.fit(x, y, validation_split= 0.2, epochs= 5, batch_size= 200)"
      ],
      "execution_count": 8,
      "outputs": [
        {
          "output_type": "stream",
          "text": [
            "Train on 44213 samples, validate on 11054 samples\n",
            "Epoch 1/5\n",
            "44213/44213 [==============================] - 33s 748us/step - loss: 0.8791 - accuracy: 0.7012 - val_loss: 0.3853 - val_accuracy: 0.8709\n",
            "Epoch 2/5\n",
            "44213/44213 [==============================] - 29s 664us/step - loss: 0.2197 - accuracy: 0.9314 - val_loss: 0.1185 - val_accuracy: 0.9658\n",
            "Epoch 3/5\n",
            "44213/44213 [==============================] - 29s 665us/step - loss: 0.1269 - accuracy: 0.9615 - val_loss: 0.1507 - val_accuracy: 0.9506\n",
            "Epoch 4/5\n",
            "44213/44213 [==============================] - 29s 663us/step - loss: 0.0890 - accuracy: 0.9742 - val_loss: 0.1139 - val_accuracy: 0.9683\n",
            "Epoch 5/5\n",
            "44213/44213 [==============================] - 29s 661us/step - loss: 0.0692 - accuracy: 0.9796 - val_loss: 0.0910 - val_accuracy: 0.9774\n"
          ],
          "name": "stdout"
        },
        {
          "output_type": "execute_result",
          "data": {
            "text/plain": [
              "<keras.callbacks.callbacks.History at 0x7fd35e433908>"
            ]
          },
          "metadata": {
            "tags": []
          },
          "execution_count": 8
        }
      ]
    },
    {
      "cell_type": "markdown",
      "metadata": {
        "id": "x74XTUOezz-w",
        "colab_type": "text"
      },
      "source": [
        "# **Testing your own data**"
      ]
    },
    {
      "cell_type": "code",
      "metadata": {
        "id": "QPPxvhKySmSd",
        "colab_type": "code",
        "colab": {
          "base_uri": "https://localhost:8080/",
          "height": 221
        },
        "outputId": "2259ed76-7d0b-490a-dd21-69255525b894"
      },
      "source": [
        "test1 = cv2.imread('/content/sample_data/one.jpg', 0)\n",
        "test1 = cv2.resize(test1, (64,64))\n",
        "plt.subplot(1, 2, 1)\n",
        "plt.imshow(test1, cmap= 'gray')\n",
        "\n",
        "test2 = cv2.imread('./sample_data/seven.jpg', 0)\n",
        "test2 = cv2.resize(test2, (64,64))\n",
        "plt.subplot(1, 2, 2)\n",
        "plt.imshow(test2, cmap = 'gray')"
      ],
      "execution_count": 9,
      "outputs": [
        {
          "output_type": "execute_result",
          "data": {
            "text/plain": [
              "<matplotlib.image.AxesImage at 0x7fd35e28e4e0>"
            ]
          },
          "metadata": {
            "tags": []
          },
          "execution_count": 9
        },
        {
          "output_type": "display_data",
          "data": {
            "image/png": "[encoded data removed]",
            "text/plain": [
              "<Figure size 432x288 with 2 Axes>"
            ]
          },
          "metadata": {
            "tags": [],
            "needs_background": "light"
          }
        }
      ]
    },
    {
      "cell_type": "markdown",
      "metadata": {
        "id": "DUViQ91T0BIa",
        "colab_type": "text"
      },
      "source": [
        "# **Predict and Plot the data to see the result clearly**"
      ]
    },
    {
      "cell_type": "code",
      "metadata": {
        "id": "DmWdDyMdTx0E",
        "colab_type": "code",
        "colab": {
          "base_uri": "https://localhost:8080/",
          "height": 234
        },
        "outputId": "fd0cf8b5-3fcc-4c8a-98f3-b18a7623ab8d"
      },
      "source": [
        "pred1 = model.predict(test1.reshape(1,64,64,1))\n",
        "plt.subplot(1, 2, 1)\n",
        "plt.imshow(test1, cmap = 'gray')\n",
        "plt.title(np.argmax(pred1))\n",
        "\n",
        "pred2 = model.predict(test2.reshape(1,64,64,1))\n",
        "plt.subplot(1, 2, 2)\n",
        "plt.imshow(test2, cmap = 'gray')\n",
        "plt.title(np.argmax(pred2))"
      ],
      "execution_count": 10,
      "outputs": [
        {
          "output_type": "execute_result",
          "data": {
            "text/plain": [
              "Text(0.5, 1.0, '7')"
            ]
          },
          "metadata": {
            "tags": []
          },
          "execution_count": 10
        },
        {
          "output_type": "display_data",
          "data": {
            "image/png": "[encoded data removed]",
            "text/plain": [
              "<Figure size 432x288 with 2 Axes>"
            ]
          },
          "metadata": {
            "tags": [],
            "needs_background": "light"
          }
        }
      ]
    },
    {
      "cell_type": "code",
      "metadata": {
        "id": "AD0VLkD3UN8X",
        "colab_type": "code",
        "colab": {}
      },
      "source": [
        ""
      ],
      "execution_count": 10,
      "outputs": []
    }
  ]
}